{
 "cells": [
  {
   "cell_type": "markdown",
   "metadata": {},
   "source": [
    "## Dunbrack cluster assignment\n",
    "\n",
    "This notebook assigns structures (e.g. a pdb file or a simulation trajectory) into Dunbrack clusters based on [Modi and Dunbrack, 2019](https://pubmed.ncbi.nlm.nih.gov/30867294/).\n",
    "\n",
    "Maintainer: [@jiayeguo](https://github.com/jiayeguo)"
   ]
  },
  {
   "cell_type": "code",
   "execution_count": 1,
   "metadata": {},
   "outputs": [],
   "source": [
    "import mdtraj as md\n",
    "import numpy as np\n",
    "from klifs import Klifs\n",
    "from query_klifs import query_klifs_database\n",
    "import protein\n",
    "from math import cos"
   ]
  },
  {
   "cell_type": "markdown",
   "metadata": {},
   "source": [
    "#### set pdbid and chain id for the structure of interest"
   ]
  },
  {
   "cell_type": "code",
   "execution_count": 2,
   "metadata": {},
   "outputs": [],
   "source": [
    "pdbid = '2JIU'\n",
    "chain = 'B'"
   ]
  },
  {
   "cell_type": "markdown",
   "metadata": {},
   "source": [
    "#### load the structure using [MDTraj](http://mdtraj.org/1.9.3/).\n",
    "\n",
    "Use the function [load_pdb](http://mdtraj.org/1.9.3/api/generated/mdtraj.load_pdb.html?highlight=load_pdb#mdtraj.load_pdb) for pdb structures and [load_dcd](http://mdtraj.org/1.9.3/api/generated/mdtraj.load_dcd.html?highlight=load_dcd#mdtraj.load_dcd) for simulations trajectories."
   ]
  },
  {
   "cell_type": "code",
   "execution_count": 3,
   "metadata": {},
   "outputs": [],
   "source": [
    "traj = md.load_pdb(f'./{pdbid}_chain{chain}.pdb')"
   ]
  },
  {
   "cell_type": "markdown",
   "metadata": {},
   "source": [
    "#### get key residue indices to calculate structural features for cluster assignment "
   ]
  },
  {
   "cell_type": "code",
   "execution_count": 4,
   "metadata": {},
   "outputs": [],
   "source": [
    "klifs = query_klifs_database(pdbid, chain)\n",
    "key_res = protein.key_klifs_residues(klifs.numbering)"
   ]
  },
  {
   "cell_type": "markdown",
   "metadata": {},
   "source": [
    "#### assign the Dunbrack cluster based on dihedrals and distances ([Modi and Dunbrack, 2019](https://pubmed.ncbi.nlm.nih.gov/30867294/))\n",
    "\n",
    "Notice that the distance unit output from MDTraj might be different given different input filetypes. The distances are in:\n",
    "\n",
    "- Angstroms (when dcd files from regular MD simulations are input into MDTraj)\n",
    "- nanometers (when pdb files or dcd files from SAMS simulations are input into MDTraj)"
   ]
  },
  {
   "cell_type": "markdown",
   "metadata": {},
   "source": [
    "#### define the centroid of each dihedral for clusters 0-5"
   ]
  },
  {
   "cell_type": "code",
   "execution_count": 5,
   "metadata": {},
   "outputs": [],
   "source": [
    "centroid = dict()\n",
    "centroid[(0, 'x_phi')]=  -129.0\n",
    "centroid[(0, 'x_psi')]=   179.0\n",
    "centroid[(0, 'd_phi')]=    61.0\n",
    "centroid[(0, 'd_psi')]=    81.0\n",
    "centroid[(0, 'f_phi')]=   -97.0\n",
    "centroid[(0, 'f_psi')]=    20.0\n",
    "centroid[(0, 'f_chi1')]=  -71.0\n",
    "\n",
    "centroid[(1, 'x_phi')]=  -119.0\n",
    "centroid[(1, 'x_psi')]=   168.0\n",
    "centroid[(1, 'd_phi')]=    59.0\n",
    "centroid[(1, 'd_psi')]=    34.0\n",
    "centroid[(1, 'f_phi')]=   -89.0\n",
    "centroid[(1, 'f_psi')]=    -8.0\n",
    "centroid[(1, 'f_chi1')]=   56.0\n",
    "\n",
    "centroid[(2, 'x_phi')]=  -112.0\n",
    "centroid[(2, 'x_psi')]=    -8.0\n",
    "centroid[(2, 'd_phi')]=  -141.0\n",
    "centroid[(2, 'd_psi')]=   148.0\n",
    "centroid[(2, 'f_phi')]=  -128.0\n",
    "centroid[(2, 'f_psi')]=    23.0\n",
    "centroid[(2, 'f_chi1')]=  -64.0\n",
    "\n",
    "centroid[(3, 'x_phi')]=  -135.0\n",
    "centroid[(3, 'x_psi')]=   175.0\n",
    "centroid[(3, 'd_phi')]=    60.0\n",
    "centroid[(3, 'd_psi')]=    65.0\n",
    "centroid[(3, 'f_phi')]=   -79.0\n",
    "centroid[(3, 'f_psi')]=   145.0\n",
    "centroid[(3, 'f_chi1')]=  -73.0\n",
    "\n",
    "centroid[(4, 'x_phi')]=  -125.0\n",
    "centroid[(4, 'x_psi')]=   172.0\n",
    "centroid[(4, 'd_phi')]=    60.0\n",
    "centroid[(4, 'd_psi')]=    33.0\n",
    "centroid[(4, 'f_phi')]=   -85.0\n",
    "centroid[(4, 'f_psi')]=   145.0\n",
    "centroid[(4, 'f_chi1')]=   49.0\n",
    "\n",
    "centroid[(5, 'x_phi')]=  -106.0\n",
    "centroid[(5, 'x_psi')]=   157.0\n",
    "centroid[(5, 'd_phi')]=    69.0\n",
    "centroid[(5, 'd_psi')]=    21.0\n",
    "centroid[(5, 'f_phi')]=   -62.0\n",
    "centroid[(5, 'f_psi')]=   134.0\n",
    "centroid[(5, 'f_chi1')]= -145.0"
   ]
  },
  {
   "cell_type": "markdown",
   "metadata": {},
   "source": [
    "#### calculate the dihedrals and distances for Dunbrack cluster assignment"
   ]
  },
  {
   "cell_type": "code",
   "execution_count": 6,
   "metadata": {},
   "outputs": [
    {
     "name": "stdout",
     "output_type": "stream",
     "text": [
      "There is no missing coordinates.  All dihedrals and distances will be computed.\n"
     ]
    }
   ],
   "source": [
    "dihedrals, distances = protein.compute_simple_protein_features(traj, key_res)"
   ]
  },
  {
   "cell_type": "code",
   "execution_count": 7,
   "metadata": {},
   "outputs": [],
   "source": [
    "assignment = list()\n",
    "for i in range(len(distances)):\n",
    "    ## reproduce the Dunbrack clustering\n",
    "    ## level1: define the DFG positions\n",
    "    if distances[i][0] <= (11.0 / 10) and distances[i][1] <= (11.0 / 10):\n",
    "        ## can only be BABtrans\n",
    "        assignment.append(7)\n",
    "    elif distances[i][0] > (11.0 / 10) and distances[i][1] < (14.0 / 10):\n",
    "        ## can only be BBAminus\n",
    "        assignment.append(6)\n",
    "    else:\n",
    "        ## belong to DFGin and possibly clusters 0 - 5\n",
    "        mindist=10000.0\n",
    "        cluster_assign = 0\n",
    "\n",
    "        for c in range(6):\n",
    "            total_dist = float((2.0 * (1.0-cos((dihedrals[i][0] - centroid[(c, 'x_phi')])*np.pi / 180.0)))\n",
    "            + (2.0 * (1.0-cos((dihedrals[i][1] - centroid[(c, 'x_psi')])*np.pi / 180.0)))\n",
    "            + (2.0 * (1.0-cos((dihedrals[i][2] - centroid[(c, 'd_phi')])*np.pi / 180.0)))\n",
    "            + (2.0 * (1.0-cos((dihedrals[i][3] - centroid[(c, 'd_psi')])*np.pi / 180.0)))\n",
    "            + (2.0 * (1.0-cos((dihedrals[i][4] - centroid[(c, 'f_phi')])*np.pi / 180.0)))\n",
    "            + (2.0 * (1.0-cos((dihedrals[i][5] - centroid[(c, 'f_psi')])*np.pi / 180.0)))\n",
    "            + (2.0 * (1.0-cos((dihedrals[i][6] - centroid[(c, 'f_chi1')])*np.pi / 180.0)))) / 7\n",
    "            if total_dist < mindist:\n",
    "                mindist = total_dist\n",
    "                clust_assign = c\n",
    "        assignment.append(clust_assign)"
   ]
  },
  {
   "cell_type": "code",
   "execution_count": 8,
   "metadata": {},
   "outputs": [
    {
     "name": "stdout",
     "output_type": "stream",
     "text": [
      "The input structure is assigned to Dunbrack cluster(s): [7]\n"
     ]
    }
   ],
   "source": [
    "print(f\"The input structure is assigned to Dunbrack cluster(s): {assignment}\")"
   ]
  }
 ],
 "metadata": {
  "kernelspec": {
   "display_name": "Python 3",
   "language": "python",
   "name": "python3"
  },
  "language_info": {
   "codemirror_mode": {
    "name": "ipython",
    "version": 3
   },
   "file_extension": ".py",
   "mimetype": "text/x-python",
   "name": "python",
   "nbconvert_exporter": "python",
   "pygments_lexer": "ipython3",
   "version": "3.6.6"
  }
 },
 "nbformat": 4,
 "nbformat_minor": 2
}
